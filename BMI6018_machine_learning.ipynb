{
 "cells": [
  {
   "cell_type": "markdown",
   "id": "e1975714",
   "metadata": {},
   "source": [
    "## imports"
   ]
  },
  {
   "cell_type": "code",
   "execution_count": 1,
   "id": "7f11027b",
   "metadata": {},
   "outputs": [],
   "source": [
    "import pandas as pd\n",
    "from sklearn.cluster import KMeans\n",
    "import numpy as np\n",
    "import matplotlib.pyplot as plt\n",
    "from sklearn.decomposition import PCA as sklearnPCA\n",
    "from sklearn.discriminant_analysis import LinearDiscriminantAnalysis as LDA"
   ]
  },
  {
   "cell_type": "markdown",
   "id": "b3dfab1c",
   "metadata": {},
   "source": [
    "## file clean up"
   ]
  },
  {
   "cell_type": "code",
   "execution_count": 2,
   "id": "e03f2946",
   "metadata": {},
   "outputs": [
    {
     "name": "stdout",
     "output_type": "stream",
     "text": [
      "  Age Sex Height Weight QRS duration PR interval QT interval T interval  \\\n",
      "0  75   0    190     80           91         193         371        174   \n",
      "1  56   1    165     64           81         174         401        149   \n",
      "2  54   0    172     95          138         163         386        185   \n",
      "3  55   0    175     94          100         202         380        179   \n",
      "4  75   0    190     80           88         181         360        177   \n",
      "\n",
      "  P interval  QRS  ... V6: JJ V6: Q V6: R V6: S V6: R' V6: S' V6: P V6: T  \\\n",
      "0        121  -16  ...   -0.3   0.0   9.0  -0.9    0.0    0.0   0.9   2.9   \n",
      "1         39   25  ...   -0.5   0.0   8.5   0.0    0.0    0.0   0.2   2.1   \n",
      "2        102   96  ...    0.9   0.0   9.5  -2.4    0.0    0.0   0.3   3.4   \n",
      "3        143   28  ...    0.1   0.0  12.2  -2.2    0.0    0.0   0.4   2.6   \n",
      "4        103  -16  ...   -0.4   0.0  13.1  -3.6    0.0    0.0  -0.1   3.9   \n",
      "\n",
      "  V6: QRSA V6: QRSTA  \n",
      "0     23.3      49.4  \n",
      "1     20.4      38.8  \n",
      "2     12.3      49.0  \n",
      "3     34.6      61.6  \n",
      "4     25.4      62.8  \n",
      "\n",
      "[5 rows x 279 columns]\n",
      "[8, 6, 10, 1, 7]\n"
     ]
    }
   ],
   "source": [
    "#get file into presentable format\n",
    "df = pd.read_csv('arrhythmia.data', header=None, dtype=str)\n",
    "channels = ['DI', 'DII', 'DIII', 'AVR', 'AVL', 'AVF', 'V1', 'V2', 'V3', 'V4', 'V5', 'V6']\n",
    "measurements1 = ['Q wave', 'R wave', 'S wave', \"R' wave\", \"S' wave\", 'Num intrinsic deflections', 'Existence of ragged R wave', 'Existence of diphasic derivation of R wave', 'Existence of ragged P wave', 'Existence of diphasic derivation of P wave', 'Existence of ragged T wave', 'Existence of diphasic derivation of T wave']\n",
    "measurements2 = ['JJ', 'Q', 'R', 'S', \"R'\", \"S'\", 'P', 'T', 'QRSA', 'QRSTA']\n",
    "cols = ['Age', 'Sex', 'Height', 'Weight', 'QRS duration', 'PR interval', 'QT interval', 'T interval', 'P interval', 'QRS', 'T', 'P', 'QRST', 'J', 'Heart Rate']\n",
    "\n",
    "for channel in channels:\n",
    "    for measurement in measurements1:\n",
    "        cols.append(f'{channel}: {measurement}')\n",
    "\n",
    "for channel in channels:\n",
    "    for measurement in measurements2:\n",
    "        cols.append(f'{channel}: {measurement}')\n",
    "\n",
    "cols.append('Classification')\n",
    "\n",
    "df.columns=cols\n",
    "classifications = df['Classification'].astype(int).to_list()\n",
    "df.drop(columns=['Classification'], inplace=True)\n",
    "\n",
    "for x in range(len(classifications)):\n",
    "    if classifications[x] == 1:\n",
    "        classifications[x] = 'normal'\n",
    "    elif classifications[x] >= 2 or classifications[x] <= 15:\n",
    "        classifications[x] = 'arrhythmia'\n",
    "    else:\n",
    "        classifications[x] = 'unclassified'"
   ]
  },
  {
   "cell_type": "code",
   "execution_count": 3,
   "id": "54a9b1e9",
   "metadata": {},
   "outputs": [
    {
     "name": "stderr",
     "output_type": "stream",
     "text": [
      "C:\\Users\\Hauck\\anaconda3\\lib\\site-packages\\pandas\\core\\frame.py:4524: SettingWithCopyWarning: \n",
      "A value is trying to be set on a copy of a slice from a DataFrame\n",
      "\n",
      "See the caveats in the documentation: https://pandas.pydata.org/pandas-docs/stable/user_guide/indexing.html#returning-a-view-versus-a-copy\n",
      "  return super().replace(\n"
     ]
    }
   ],
   "source": [
    "mask = df.apply(lambda col: col.str.contains('\\?').any(), axis=0)\n",
    "tmp = df.loc[: , mask]\n",
    "\n",
    "tmp.replace('?', np.nan, inplace=True)\n",
    "#tmp = tmp.astype(str)\n",
    "\n",
    "tmp.columns\n",
    "\n",
    "for index, row in tmp.iterrows():\n",
    "    if row['T'] == 'nan':\n",
    "        print('T:', row['T'])"
   ]
  },
  {
   "cell_type": "code",
   "execution_count": 4,
   "id": "9e8fc9a3",
   "metadata": {},
   "outputs": [],
   "source": [
    "df.replace('?', np.nan, inplace=True)\n",
    "df = df.astype(float)"
   ]
  },
  {
   "cell_type": "code",
   "execution_count": 5,
   "id": "952da4fb",
   "metadata": {},
   "outputs": [],
   "source": [
    "df = df.astype(float)\n",
    "\n",
    "t_mean = df['T'].mean()\n",
    "df['T'].fillna(value=str(t_mean), inplace=True)\n",
    "\n",
    "p_mean = df['P'].mean()\n",
    "df['P'].fillna(value=p_mean, inplace=True)\n",
    "\n",
    "qrst_mean = df['QRST'].mean()\n",
    "df['QRST'].fillna(value=qrst_mean, inplace=True)\n",
    "\n",
    "j_mean = df['J'].mean()\n",
    "df['J'].fillna(value=j_mean, inplace=True)\n",
    "\n",
    "hr_mean = df['Heart Rate'].mean()\n",
    "df['Heart Rate'].fillna(value=hr_mean, inplace=True)\n"
   ]
  },
  {
   "cell_type": "markdown",
   "id": "51b722eb",
   "metadata": {},
   "source": [
    "## PCA: makes it easier to visualize"
   ]
  },
  {
   "cell_type": "code",
   "execution_count": 23,
   "id": "70fa1ef9",
   "metadata": {},
   "outputs": [],
   "source": [
    "pca = sklearnPCA(n_components=2)\n",
    "transformed = pd.DataFrame(pca.fit_transform(df))"
   ]
  },
  {
   "cell_type": "markdown",
   "id": "8ab56742",
   "metadata": {},
   "source": [
    "## Elbow Graph"
   ]
  },
  {
   "cell_type": "code",
   "execution_count": 24,
   "id": "e7d92e8e",
   "metadata": {},
   "outputs": [
    {
     "name": "stderr",
     "output_type": "stream",
     "text": [
      "C:\\Users\\Hauck\\anaconda3\\lib\\site-packages\\sklearn\\cluster\\_kmeans.py:881: UserWarning: KMeans is known to have a memory leak on Windows with MKL, when there are less chunks than available threads. You can avoid it by setting the environment variable OMP_NUM_THREADS=2.\n",
      "  warnings.warn(\n"
     ]
    },
    {
     "data": {
      "image/png": "[encoded data removed]",
      "text/plain": [
       "<Figure size 432x288 with 1 Axes>"
      ]
     },
     "metadata": {
      "needs_background": "light"
     },
     "output_type": "display_data"
    }
   ],
   "source": [
    "dist = []\n",
    "\n",
    "for i in range(1, 11):\n",
    "    km = KMeans(\n",
    "        n_clusters=i,\n",
    "        init='random',\n",
    "        n_init=10,\n",
    "        max_iter=300,\n",
    "        tol=1e-04,\n",
    "        random_state=0\n",
    "    )\n",
    "    km.fit(transformed)\n",
    "    dist.append(km.inertia_)\n",
    "\n",
    "plt.plot(range(1, 11), dist, marker='o')\n",
    "plt.xlabel('Number of clusters')\n",
    "plt.ylabel('Distortion')\n",
    "plt.show()"
   ]
  },
  {
   "cell_type": "markdown",
   "id": "a25afcc3",
   "metadata": {},
   "source": [
    "# scatter plot 2 clusters"
   ]
  },
  {
   "cell_type": "code",
   "execution_count": 25,
   "id": "65159c3d",
   "metadata": {},
   "outputs": [],
   "source": [
    "km = KMeans(\n",
    "    n_clusters=2,\n",
    "    init='random',\n",
    "    n_init=10,\n",
    "    max_iter=300,\n",
    "    tol=1e-04,\n",
    "    random_state=0\n",
    ")\n",
    "y_km = km.fit_predict(transformed)"
   ]
  },
  {
   "cell_type": "code",
   "execution_count": 26,
   "id": "32c6a28d",
   "metadata": {},
   "outputs": [],
   "source": [
    "cluster0 = transformed[y_km == 0]\n",
    "cluster1 = transformed[y_km ==1]"
   ]
  },
  {
   "cell_type": "code",
   "execution_count": 27,
   "id": "e25a703f",
   "metadata": {},
   "outputs": [
    {
     "data": {
      "image/png": "[encoded data removed]",
      "text/plain": [
       "<Figure size 432x288 with 1 Axes>"
      ]
     },
     "metadata": {
      "needs_background": "light"
     },
     "output_type": "display_data"
    }
   ],
   "source": [
    "plt.scatter(cluster0[0], cluster0[1], label='')\n",
    "plt.scatter(cluster1[0], cluster1[1], color='red')\n",
    "plt.scatter(\n",
    "    km.cluster_centers_[:, 0],\n",
    "    km.cluster_centers_[:, 1],\n",
    "    s=250,\n",
    "    marker='*',\n",
    "    c='yellow',\n",
    "    edgecolor='black',\n",
    "    label='centroids'\n",
    ")\n",
    "plt.legend()\n",
    "plt.show()"
   ]
  },
  {
   "cell_type": "code",
   "execution_count": null,
   "id": "81ae08c6",
   "metadata": {},
   "outputs": [],
   "source": []
  }
 ],
 "metadata": {
  "kernelspec": {
   "display_name": "Python 3",
   "language": "python",
   "name": "python3"
  },
  "language_info": {
   "codemirror_mode": {
    "name": "ipython",
    "version": 3
   },
   "file_extension": ".py",
   "mimetype": "text/x-python",
   "name": "python",
   "nbconvert_exporter": "python",
   "pygments_lexer": "ipython3",
   "version": "3.8.8"
  }
 },
 "nbformat": 4,
 "nbformat_minor": 5
}
